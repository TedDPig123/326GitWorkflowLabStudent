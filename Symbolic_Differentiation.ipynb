{
  "cells": [
    {
      "cell_type": "code",
      "execution_count": 32,
      "id": "bd89eb1c",
      "metadata": {
        "id": "bd89eb1c"
      },
      "outputs": [],
      "source": [
        "try:\n",
        "    import sympy as sp\n",
        "except Exception as e:\n",
        "    print(\"Installing SymPy\")\n",
        "    !pip install sympy\n",
        "\n",
        "import sympy as sp\n",
        "from sympy import init_printing\n",
        "import matplotlib.pyplot as plt\n",
        "import numpy as np\n",
        "\n",
        "init_printing(use_latex=True)"
      ]
    },
    {
      "cell_type": "markdown",
      "id": "b13133e1",
      "metadata": {
        "id": "b13133e1"
      },
      "source": [
        "## Define Logistic Function"
      ]
    },
    {
      "cell_type": "code",
      "execution_count": 33,
      "id": "fc259fef",
      "metadata": {
        "colab": {
          "base_uri": "https://localhost:8080/",
          "height": 70
        },
        "id": "fc259fef",
        "outputId": "66d0b76f-600d-41bc-fcb7-1afec167f980"
      },
      "outputs": [
        {
          "output_type": "stream",
          "name": "stdout",
          "text": [
            "Logistic function:\n"
          ]
        },
        {
          "output_type": "display_data",
          "data": {
            "text/plain": [
              "   1   \n",
              "───────\n",
              "     -x\n",
              "1 + ℯ  "
            ],
            "text/latex": "$\\displaystyle \\frac{1}{1 + e^{- x}}$"
          },
          "metadata": {}
        }
      ],
      "source": [
        "x = sp.symbols('x')\n",
        "logistic = 1 / (1 + sp.exp(-x))\n",
        "\n",
        "print(\"Logistic function:\")\n",
        "display(logistic)\n"
      ]
    },
    {
      "cell_type": "code",
      "source": [],
      "metadata": {
        "id": "OJDMDGpfYSZF"
      },
      "id": "OJDMDGpfYSZF",
      "execution_count": 33,
      "outputs": []
    },
    {
      "cell_type": "code",
      "source": [
        "from sympy import latex, solve, Eq\n",
        "\n",
        "n1 = sp.symbols('n1')\n",
        "n0 = sp.symbols('n0')\n",
        "pi = sp.symbols('pi')\n",
        "\n",
        "nall = (-1*(1/(n1+n0)))*(n1*sp.log(pi)+n0*sp.log(1-pi))\n",
        "nall_deriv = sp.diff(nall, pi)\n",
        "\n",
        "equation = Eq(nall_deriv, 0)\n",
        "solution = solve(equation, pi)\n",
        "display(solution)\n",
        "print(latex(solution))\n"
      ],
      "metadata": {
        "id": "8W4AvwQwUkwg",
        "outputId": "fd3baa95-16fc-4283-8f34-64824af53476",
        "colab": {
          "base_uri": "https://localhost:8080/",
          "height": 75
        }
      },
      "id": "8W4AvwQwUkwg",
      "execution_count": 34,
      "outputs": [
        {
          "output_type": "display_data",
          "data": {
            "text/plain": [
              "⎡  n₁   ⎤\n",
              "⎢───────⎥\n",
              "⎣n₀ + n₁⎦"
            ],
            "text/latex": "$\\displaystyle \\left[ \\frac{n_{1}}{n_{0} + n_{1}}\\right]$"
          },
          "metadata": {}
        },
        {
          "output_type": "stream",
          "name": "stdout",
          "text": [
            "\\left[ \\frac{n_{1}}{n_{0} + n_{1}}\\right]\n"
          ]
        }
      ]
    },
    {
      "cell_type": "code",
      "source": [
        "import torch\n",
        "\n",
        "def approx_fprime(f, x):\n",
        "  eps=1e-8\n",
        "  d = x.shape[0]\n",
        "  f_i = f(x)\n",
        "  ret_grad = torch.zeros_like(x)\n",
        "\n",
        "  for i in range(d):\n",
        "    theta_i = x.clone()\n",
        "    theta_i[i] = theta_i[i] + eps\n",
        "\n",
        "    f_theta_i = f(theta_i)\n",
        "\n",
        "    ret_grad[i] = (f_theta_i - f_i) / eps\n",
        "\n",
        "  return ret_grad\n",
        "\n",
        "def sum_of_squares(x):\n",
        "    return torch.sum(x**2)\n",
        "\n",
        "def autodiff(x):\n",
        "    x_grad = x.clone().detach().requires_grad_(True)\n",
        "    out = sum_of_squares(x_grad)\n",
        "    out.backward()\n",
        "    return x_grad.grad\n",
        "\n",
        "def abs_difference(x1, x2):\n",
        "    arr = []\n",
        "    for i in range(len(x1)):\n",
        "      arr.append(abs(x1[i] - x2[i]))\n",
        "    return arr\n",
        "\n",
        "x1 = torch.tensor([1.0, 2.0, 3.0], dtype=torch.float64)\n",
        "x1_app = approx_fprime(sum_of_squares,x1)\n",
        "x1_aut = autodiff(x1)\n",
        "\n",
        "x2 = torch.tensor([2.0, 4.0], dtype=torch.float64)\n",
        "x2_app = approx_fprime(sum_of_squares,x2)\n",
        "x2_aut = autodiff(x2)\n",
        "\n",
        "x3 = torch.tensor([2.0, 4.0, 5.0, 9.0, 10.0, 11.0], dtype=torch.float64)\n",
        "x3_app = approx_fprime(sum_of_squares,x3)\n",
        "x3_aut = autodiff(x3)\n",
        "\n",
        "print(\"x value:\", x1)\n",
        "print(\"gradient at x with approx_fprime\", x1_app)\n",
        "print(\"gradient at x with autodiff\", x1_aut)\n",
        "print(\"absolute difference\", abs_difference(x1_app, x1_aut))\n",
        "\n",
        "print(\"\\nx value:\", x2)\n",
        "print(\"gradient at x with approx_fprime\", x2_app)\n",
        "print(\"gradient at x with autodiff\", x2_aut)\n",
        "print(\"absolute difference\", abs_difference(x2_app, x2_aut))\n",
        "\n",
        "print(\"\\nx value:\", x3)\n",
        "print(\"gradient at x with approx_fprime\", x3_app)\n",
        "print(\"gradient at x with autodiff\", x3_aut)\n",
        "print(\"absolute difference\", abs_difference(x3_app, x3_aut))\n"
      ],
      "metadata": {
        "id": "ZEsqU6MZaImA",
        "outputId": "a6a271a6-421f-41c0-a3d6-1c99b3b8759c",
        "colab": {
          "base_uri": "https://localhost:8080/"
        }
      },
      "id": "ZEsqU6MZaImA",
      "execution_count": 57,
      "outputs": [
        {
          "output_type": "stream",
          "name": "stdout",
          "text": [
            "x value: tensor([1., 2., 3.], dtype=torch.float64)\n",
            "gradient at x with approx_fprime tensor([2.0000, 4.0000, 6.0000], dtype=torch.float64)\n",
            "gradient at x with autodiff tensor([2., 4., 6.], dtype=torch.float64)\n",
            "absolute difference [tensor(1.2155e-08, dtype=torch.float64), tensor(2.4310e-08, dtype=torch.float64), tensor(3.6465e-08, dtype=torch.float64)]\n",
            "\n",
            "x value: tensor([2., 4.], dtype=torch.float64)\n",
            "gradient at x with approx_fprime tensor([4.0000, 8.0000], dtype=torch.float64)\n",
            "gradient at x with autodiff tensor([4., 8.], dtype=torch.float64)\n",
            "absolute difference [tensor(2.4310e-08, dtype=torch.float64), tensor(4.8620e-08, dtype=torch.float64)]\n",
            "\n",
            "x value: tensor([ 2.,  4.,  5.,  9., 10., 11.], dtype=torch.float64)\n",
            "gradient at x with approx_fprime tensor([ 4.0000,  8.0000, 10.0000, 18.0000, 20.0000, 22.0000],\n",
            "       dtype=torch.float64)\n",
            "gradient at x with autodiff tensor([ 4.,  8., 10., 18., 20., 22.], dtype=torch.float64)\n",
            "absolute difference [tensor(3.1731e-06, dtype=torch.float64), tensor(6.6192e-07, dtype=torch.float64), tensor(2.2485e-06, dtype=torch.float64), tensor(2.9104e-06, dtype=torch.float64), tensor(4.4970e-06, dtype=torch.float64), tensor(3.9920e-07, dtype=torch.float64)]\n"
          ]
        }
      ]
    },
    {
      "cell_type": "markdown",
      "id": "8ef72a12",
      "metadata": {
        "id": "8ef72a12"
      },
      "source": [
        "## Compute Derivative Function"
      ]
    },
    {
      "cell_type": "code",
      "execution_count": 36,
      "id": "bcb76001",
      "metadata": {
        "colab": {
          "base_uri": "https://localhost:8080/",
          "height": 95
        },
        "id": "bcb76001",
        "outputId": "1531ef28-9290-4b9d-ac92-b6495a4bab90"
      },
      "outputs": [
        {
          "output_type": "stream",
          "name": "stdout",
          "text": [
            "\n",
            "Logistic Function Derivative:\n"
          ]
        },
        {
          "output_type": "display_data",
          "data": {
            "text/plain": [
              "    -x    \n",
              "   ℯ      \n",
              "──────────\n",
              "         2\n",
              "⎛     -x⎞ \n",
              "⎝1 + ℯ  ⎠ "
            ],
            "text/latex": "$\\displaystyle \\frac{e^{- x}}{\\left(1 + e^{- x}\\right)^{2}}$"
          },
          "metadata": {}
        }
      ],
      "source": [
        "logistic_deriv = sp.diff(logistic, x)\n",
        "\n",
        "print(\"\\nLogistic Function Derivative:\")\n",
        "display(logistic_deriv)\n"
      ]
    },
    {
      "cell_type": "markdown",
      "id": "8a356853",
      "metadata": {
        "id": "8a356853"
      },
      "source": [
        "## Plot Results"
      ]
    },
    {
      "cell_type": "code",
      "execution_count": 27,
      "id": "71f6220d",
      "metadata": {
        "colab": {
          "base_uri": "https://localhost:8080/",
          "height": 944
        },
        "id": "71f6220d",
        "outputId": "75b9d31c-d956-4874-f7f2-759ca5416087"
      },
      "outputs": [
        {
          "output_type": "execute_result",
          "data": {
            "text/plain": [
              "Text(0.5, 1.0, 'Derivative of Logistic Function')"
            ]
          },
          "metadata": {},
          "execution_count": 27
        },
        {
          "output_type": "display_data",
          "data": {
            "text/plain": [
              "<Figure size 640x480 with 1 Axes>"
            ],
            "image/png": "[encoded data removed]"
          },
          "metadata": {}
        },
        {
          "output_type": "display_data",
          "data": {
            "text/plain": [
              "<Figure size 640x480 with 1 Axes>"
            ],
            "image/png": "[encoded data removed]"
          },
          "metadata": {}
        }
      ],
      "source": [
        "# Convert symbolic expression to numpy function\n",
        "logistic_np      = sp.lambdify(x, logistic, modules=['numpy'])\n",
        "logistic_deriv_np =  sp.lambdify(x, logistic_deriv, modules=['numpy'])\n",
        "\n",
        "# Apply the function\n",
        "x_vals = np.arange(-5,5,0.1)\n",
        "y_vals = logistic_np(x_vals)\n",
        "dydx_vals = logistic_deriv_np(x_vals)\n",
        "\n",
        "plt.figure()\n",
        "plt.plot(x_vals, y_vals)\n",
        "plt.grid(True)\n",
        "plt.xlabel(\"x\")\n",
        "plt.ylabel(\"y\")\n",
        "plt.title(\"Logistic Function\")\n",
        "\n",
        "plt.figure()\n",
        "plt.plot(x_vals, dydx_vals)\n",
        "plt.grid(True)\n",
        "plt.xlabel(\"x\")\n",
        "plt.ylabel(\"dy/dx\")\n",
        "plt.title(\"Derivative of Logistic Function\")"
      ]
    },
    {
      "cell_type": "markdown",
      "id": "9d58ba4d",
      "metadata": {
        "id": "9d58ba4d"
      },
      "source": [
        "# Logistic Regression Example"
      ]
    },
    {
      "cell_type": "markdown",
      "id": "1b914761",
      "metadata": {
        "id": "1b914761"
      },
      "source": [
        "## Define the probabilistic classification function"
      ]
    },
    {
      "cell_type": "code",
      "execution_count": 28,
      "id": "31feb2cd",
      "metadata": {
        "colab": {
          "base_uri": "https://localhost:8080/",
          "height": 52
        },
        "id": "31feb2cd",
        "outputId": "b95e56dc-2d10-484f-cadd-08c0a8a414ff"
      },
      "outputs": [
        {
          "output_type": "display_data",
          "data": {
            "text/plain": [
              "           1           \n",
              "───────────────────────\n",
              " -b - w₁⋅x₁ - w₂⋅x₂    \n",
              "ℯ                   + 1"
            ],
            "text/latex": "$\\displaystyle \\frac{1}{e^{- b - w_{1} x_{1} - w_{2} x_{2}} + 1}$"
          },
          "metadata": {}
        }
      ],
      "source": [
        "x = sp.Matrix(sp.symbols('x1 x2'))   # feature vector\n",
        "w = sp.Matrix(sp.symbols('w1 w2'))   # weight vector\n",
        "b = sp.symbols('b')                  # bias scalar\n",
        "\n",
        "pygx = 1 / (1 + sp.exp(-(w.dot(x) + b)))\n",
        "\n",
        "display(pygx)"
      ]
    },
    {
      "cell_type": "markdown",
      "id": "d1479399",
      "metadata": {
        "id": "d1479399"
      },
      "source": [
        "## Define the nll"
      ]
    },
    {
      "cell_type": "code",
      "execution_count": 29,
      "id": "9088223b",
      "metadata": {
        "colab": {
          "base_uri": "https://localhost:8080/",
          "height": 58
        },
        "id": "9088223b",
        "outputId": "d36c06a5-2bb2-4a6c-d3c2-f3f072fd665d"
      },
      "outputs": [
        {
          "output_type": "display_data",
          "data": {
            "text/plain": [
              "     ⎛           1           ⎞              ⎛               1           ⎞\n",
              "y⋅log⎜───────────────────────⎟ + (1 - y)⋅log⎜1 - ───────────────────────⎟\n",
              "     ⎜ -b - w₁⋅x₁ - w₂⋅x₂    ⎟              ⎜     -b - w₁⋅x₁ - w₂⋅x₂    ⎟\n",
              "     ⎝ℯ                   + 1⎠              ⎝    ℯ                   + 1⎠"
            ],
            "text/latex": "$\\displaystyle y \\log{\\left(\\frac{1}{e^{- b - w_{1} x_{1} - w_{2} x_{2}} + 1} \\right)} + \\left(1 - y\\right) \\log{\\left(1 - \\frac{1}{e^{- b - w_{1} x_{1} - w_{2} x_{2}} + 1} \\right)}$"
          },
          "metadata": {}
        }
      ],
      "source": [
        "y = sp.symbols('y')\n",
        "nll = y*sp.log(pygx) + (1-y)*sp.log(1-pygx)\n",
        "display(nll)"
      ]
    },
    {
      "cell_type": "markdown",
      "id": "3eebdc86",
      "metadata": {
        "id": "3eebdc86"
      },
      "source": [
        "## Get the gradient of the nll"
      ]
    },
    {
      "cell_type": "code",
      "execution_count": 30,
      "id": "8d937b40",
      "metadata": {
        "colab": {
          "base_uri": "https://localhost:8080/",
          "height": 47
        },
        "id": "8d937b40",
        "outputId": "62c1c67b-02db-4de0-b1e5-b34f93c6fc4c"
      },
      "outputs": [
        {
          "output_type": "display_data",
          "data": {
            "text/plain": [
              "⎡   ⎛   b + w₁⋅x₁ + w₂⋅x₂        b + w₁⋅x₁ + w₂⋅x₂⎞     ⎛   b + w₁⋅x₁ + w₂⋅x₂  ↪\n",
              "⎢x₁⋅⎝y⋅ℯ                  + y - ℯ                 ⎠  x₂⋅⎝y⋅ℯ                   ↪\n",
              "⎢──────────────────────────────────────────────────  ───────────────────────── ↪\n",
              "⎢               b + w₁⋅x₁ + w₂⋅x₂                                   b + w₁⋅x₁  ↪\n",
              "⎣              ℯ                  + 1                              ℯ           ↪\n",
              "\n",
              "↪        b + w₁⋅x₁ + w₂⋅x₂⎞     b + w₁⋅x₁ + w₂⋅x₂        b + w₁⋅x₁ + w₂⋅x₂⎤\n",
              "↪ + y - ℯ                 ⎠  y⋅ℯ                  + y - ℯ                 ⎥\n",
              "↪ ─────────────────────────  ─────────────────────────────────────────────⎥\n",
              "↪ + w₂⋅x₂                                b + w₁⋅x₁ + w₂⋅x₂                ⎥\n",
              "↪         + 1                           ℯ                  + 1            ⎦"
            ],
            "text/latex": "$\\displaystyle \\left[\\begin{matrix}\\frac{x_{1} \\left(y e^{b + w_{1} x_{1} + w_{2} x_{2}} + y - e^{b + w_{1} x_{1} + w_{2} x_{2}}\\right)}{e^{b + w_{1} x_{1} + w_{2} x_{2}} + 1} & \\frac{x_{2} \\left(y e^{b + w_{1} x_{1} + w_{2} x_{2}} + y - e^{b + w_{1} x_{1} + w_{2} x_{2}}\\right)}{e^{b + w_{1} x_{1} + w_{2} x_{2}} + 1} & \\frac{y e^{b + w_{1} x_{1} + w_{2} x_{2}} + y - e^{b + w_{1} x_{1} + w_{2} x_{2}}}{e^{b + w_{1} x_{1} + w_{2} x_{2}} + 1}\\end{matrix}\\right]$"
          },
          "metadata": {}
        }
      ],
      "source": [
        "# Create a Matrix containing the scalar function\n",
        "scalar_matrix = sp.Matrix([nll])\n",
        "\n",
        "# Calculate the gradient using jacobian\n",
        "nll_gradient = sp.simplify(scalar_matrix.jacobian((w,b)))\n",
        "\n",
        "display(nll_gradient)"
      ]
    },
    {
      "cell_type": "markdown",
      "id": "547dd38c",
      "metadata": {
        "id": "547dd38c"
      },
      "source": [
        "## Evaluate the nll gradient"
      ]
    },
    {
      "cell_type": "code",
      "execution_count": 37,
      "id": "aa9a371a",
      "metadata": {
        "colab": {
          "base_uri": "https://localhost:8080/",
          "height": 419
        },
        "id": "aa9a371a",
        "outputId": "229c20d7-284b-48ab-c360-58454f2e3428"
      },
      "outputs": [
        {
          "output_type": "error",
          "ename": "TypeError",
          "evalue": "loop of ufunc does not support argument 0 of type Add which has no callable exp method",
          "traceback": [
            "\u001b[0;31m---------------------------------------------------------------------------\u001b[0m",
            "\u001b[0;31mAttributeError\u001b[0m                            Traceback (most recent call last)",
            "\u001b[0;31mAttributeError\u001b[0m: 'Add' object has no attribute 'exp'",
            "\nThe above exception was the direct cause of the following exception:\n",
            "\u001b[0;31mTypeError\u001b[0m                                 Traceback (most recent call last)",
            "\u001b[0;32m/tmp/ipython-input-3112363035.py\u001b[0m in \u001b[0;36m<cell line: 0>\u001b[0;34m()\u001b[0m\n\u001b[1;32m      6\u001b[0m \u001b[0mb_val\u001b[0m     \u001b[0;34m=\u001b[0m \u001b[0;36m1\u001b[0m\u001b[0;34m\u001b[0m\u001b[0;34m\u001b[0m\u001b[0m\n\u001b[1;32m      7\u001b[0m \u001b[0;34m\u001b[0m\u001b[0m\n\u001b[0;32m----> 8\u001b[0;31m \u001b[0mprint\u001b[0m\u001b[0;34m(\u001b[0m\u001b[0mgrad_func\u001b[0m\u001b[0;34m(\u001b[0m\u001b[0mw_val\u001b[0m\u001b[0;34m,\u001b[0m\u001b[0mb_val\u001b[0m\u001b[0;34m,\u001b[0m\u001b[0my_val\u001b[0m\u001b[0;34m,\u001b[0m\u001b[0mx_val\u001b[0m\u001b[0;34m)\u001b[0m\u001b[0;34m)\u001b[0m\u001b[0;34m\u001b[0m\u001b[0;34m\u001b[0m\u001b[0m\n\u001b[0m",
            "\u001b[0;32m<lambdifygenerated-7>\u001b[0m in \u001b[0;36m_lambdifygenerated\u001b[0;34m(_Dummy_38, b, y, x)\u001b[0m\n\u001b[1;32m      1\u001b[0m \u001b[0;32mdef\u001b[0m \u001b[0m_lambdifygenerated\u001b[0m\u001b[0;34m(\u001b[0m\u001b[0m_Dummy_38\u001b[0m\u001b[0;34m,\u001b[0m \u001b[0mb\u001b[0m\u001b[0;34m,\u001b[0m \u001b[0my\u001b[0m\u001b[0;34m,\u001b[0m \u001b[0mx\u001b[0m\u001b[0;34m)\u001b[0m\u001b[0;34m:\u001b[0m\u001b[0;34m\u001b[0m\u001b[0;34m\u001b[0m\u001b[0m\n\u001b[1;32m      2\u001b[0m     \u001b[0;34m[\u001b[0m\u001b[0mw1\u001b[0m\u001b[0;34m,\u001b[0m \u001b[0mw2\u001b[0m\u001b[0;34m]\u001b[0m \u001b[0;34m=\u001b[0m \u001b[0m_Dummy_38\u001b[0m\u001b[0;34m\u001b[0m\u001b[0;34m\u001b[0m\u001b[0m\n\u001b[0;32m----> 3\u001b[0;31m     \u001b[0;32mreturn\u001b[0m \u001b[0marray\u001b[0m\u001b[0;34m(\u001b[0m\u001b[0;34m[\u001b[0m\u001b[0;34m[\u001b[0m\u001b[0mx1\u001b[0m\u001b[0;34m*\u001b[0m\u001b[0;34m(\u001b[0m\u001b[0my\u001b[0m\u001b[0;34m*\u001b[0m\u001b[0mexp\u001b[0m\u001b[0;34m(\u001b[0m\u001b[0mb\u001b[0m \u001b[0;34m+\u001b[0m \u001b[0mw1\u001b[0m\u001b[0;34m*\u001b[0m\u001b[0mx1\u001b[0m \u001b[0;34m+\u001b[0m \u001b[0mw2\u001b[0m\u001b[0;34m*\u001b[0m\u001b[0mx2\u001b[0m\u001b[0;34m)\u001b[0m \u001b[0;34m+\u001b[0m \u001b[0my\u001b[0m \u001b[0;34m-\u001b[0m \u001b[0mexp\u001b[0m\u001b[0;34m(\u001b[0m\u001b[0mb\u001b[0m \u001b[0;34m+\u001b[0m \u001b[0mw1\u001b[0m\u001b[0;34m*\u001b[0m\u001b[0mx1\u001b[0m \u001b[0;34m+\u001b[0m \u001b[0mw2\u001b[0m\u001b[0;34m*\u001b[0m\u001b[0mx2\u001b[0m\u001b[0;34m)\u001b[0m\u001b[0;34m)\u001b[0m\u001b[0;34m/\u001b[0m\u001b[0;34m(\u001b[0m\u001b[0mexp\u001b[0m\u001b[0;34m(\u001b[0m\u001b[0mb\u001b[0m \u001b[0;34m+\u001b[0m \u001b[0mw1\u001b[0m\u001b[0;34m*\u001b[0m\u001b[0mx1\u001b[0m \u001b[0;34m+\u001b[0m \u001b[0mw2\u001b[0m\u001b[0;34m*\u001b[0m\u001b[0mx2\u001b[0m\u001b[0;34m)\u001b[0m \u001b[0;34m+\u001b[0m \u001b[0;36m1\u001b[0m\u001b[0;34m)\u001b[0m\u001b[0;34m,\u001b[0m \u001b[0mx2\u001b[0m\u001b[0;34m*\u001b[0m\u001b[0;34m(\u001b[0m\u001b[0my\u001b[0m\u001b[0;34m*\u001b[0m\u001b[0mexp\u001b[0m\u001b[0;34m(\u001b[0m\u001b[0mb\u001b[0m \u001b[0;34m+\u001b[0m \u001b[0mw1\u001b[0m\u001b[0;34m*\u001b[0m\u001b[0mx1\u001b[0m \u001b[0;34m+\u001b[0m \u001b[0mw2\u001b[0m\u001b[0;34m*\u001b[0m\u001b[0mx2\u001b[0m\u001b[0;34m)\u001b[0m \u001b[0;34m+\u001b[0m \u001b[0my\u001b[0m \u001b[0;34m-\u001b[0m \u001b[0mexp\u001b[0m\u001b[0;34m(\u001b[0m\u001b[0mb\u001b[0m \u001b[0;34m+\u001b[0m \u001b[0mw1\u001b[0m\u001b[0;34m*\u001b[0m\u001b[0mx1\u001b[0m \u001b[0;34m+\u001b[0m \u001b[0mw2\u001b[0m\u001b[0;34m*\u001b[0m\u001b[0mx2\u001b[0m\u001b[0;34m)\u001b[0m\u001b[0;34m)\u001b[0m\u001b[0;34m/\u001b[0m\u001b[0;34m(\u001b[0m\u001b[0mexp\u001b[0m\u001b[0;34m(\u001b[0m\u001b[0mb\u001b[0m \u001b[0;34m+\u001b[0m \u001b[0mw1\u001b[0m\u001b[0;34m*\u001b[0m\u001b[0mx1\u001b[0m \u001b[0;34m+\u001b[0m \u001b[0mw2\u001b[0m\u001b[0;34m*\u001b[0m\u001b[0mx2\u001b[0m\u001b[0;34m)\u001b[0m \u001b[0;34m+\u001b[0m \u001b[0;36m1\u001b[0m\u001b[0;34m)\u001b[0m\u001b[0;34m,\u001b[0m \u001b[0;34m(\u001b[0m\u001b[0my\u001b[0m\u001b[0;34m*\u001b[0m\u001b[0mexp\u001b[0m\u001b[0;34m(\u001b[0m\u001b[0mb\u001b[0m \u001b[0;34m+\u001b[0m \u001b[0mw1\u001b[0m\u001b[0;34m*\u001b[0m\u001b[0mx1\u001b[0m \u001b[0;34m+\u001b[0m \u001b[0mw2\u001b[0m\u001b[0;34m*\u001b[0m\u001b[0mx2\u001b[0m\u001b[0;34m)\u001b[0m \u001b[0;34m+\u001b[0m \u001b[0my\u001b[0m \u001b[0;34m-\u001b[0m \u001b[0mexp\u001b[0m\u001b[0;34m(\u001b[0m\u001b...\n\u001b[0m",
            "\u001b[0;31mTypeError\u001b[0m: loop of ufunc does not support argument 0 of type Add which has no callable exp method"
          ]
        }
      ],
      "source": [
        "grad_func = sp.lambdify((w, b, y, x), nll_gradient, modules=[\"numpy\"])\n",
        "\n",
        "x_val     = np.array([1,2]).T\n",
        "y_val     = 1\n",
        "w_val     = np.array([0.5,0.5])\n",
        "b_val     = 1\n",
        "\n",
        "print(grad_func(w_val,b_val,y_val,x_val))\n"
      ]
    }
  ],
  "metadata": {
    "kernelspec": {
      "display_name": "589",
      "language": "python",
      "name": "python3"
    },
    "language_info": {
      "codemirror_mode": {
        "name": "ipython",
        "version": 3
      },
      "file_extension": ".py",
      "mimetype": "text/x-python",
      "name": "python",
      "nbconvert_exporter": "python",
      "pygments_lexer": "ipython3",
      "version": "3.11.5"
    },
    "colab": {
      "provenance": []
    }
  },
  "nbformat": 4,
  "nbformat_minor": 5
}